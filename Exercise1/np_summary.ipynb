{
 "cells": [
  {
   "cell_type": "code",
   "execution_count": 1,
   "metadata": {},
   "outputs": [],
   "source": [
    "import numpy as np"
   ]
  },
  {
   "cell_type": "code",
   "execution_count": 2,
   "metadata": {},
   "outputs": [],
   "source": [
    "data = np.load('monthdata.npz')\n",
    "totals = data['totals']\n",
    "counts = data['counts']"
   ]
  },
  {
   "cell_type": "code",
   "execution_count": 3,
   "metadata": {},
   "outputs": [],
   "source": [
    "totalCityPrecip = np.sum(totals, axis=1)"
   ]
  },
  {
   "cell_type": "code",
   "execution_count": 4,
   "metadata": {},
   "outputs": [
    {
     "name": "stdout",
     "output_type": "stream",
     "text": [
      "[12948  5203 14568 15086  8451  8549  6378 13148  2234]\n"
     ]
    }
   ],
   "source": [
    "print(totalCityPrecip)"
   ]
  },
  {
   "cell_type": "code",
   "execution_count": 5,
   "metadata": {},
   "outputs": [],
   "source": [
    "lowestCity = np.argmin(totalCityPrecip)"
   ]
  },
  {
   "cell_type": "code",
   "execution_count": 6,
   "metadata": {},
   "outputs": [
    {
     "name": "stdout",
     "output_type": "stream",
     "text": [
      "8\n"
     ]
    }
   ],
   "source": [
    "print(lowestCity)"
   ]
  },
  {
   "cell_type": "code",
   "execution_count": 7,
   "metadata": {},
   "outputs": [],
   "source": [
    "totalCityCount = np.sum(counts, axis=1)\n"
   ]
  },
  {
   "cell_type": "code",
   "execution_count": 8,
   "metadata": {
    "scrolled": true
   },
   "outputs": [
    {
     "name": "stdout",
     "output_type": "stream",
     "text": [
      "[271 363 365 364 361 361 364 360 363]\n"
     ]
    }
   ],
   "source": [
    "print(totalCityCount)"
   ]
  },
  {
   "cell_type": "code",
   "execution_count": 9,
   "metadata": {},
   "outputs": [],
   "source": [
    "totalMonthlyPrecip = np.sum(totals, axis=0)\n",
    "totalMonthlyCount = np.sum(counts, axis=0)"
   ]
  },
  {
   "cell_type": "code",
   "execution_count": 10,
   "metadata": {},
   "outputs": [
    {
     "name": "stdout",
     "output_type": "stream",
     "text": [
      "[ 7695  7637  8176  4833  5699  5360  6569  5401  6233 11752  8827  8383]\n"
     ]
    }
   ],
   "source": [
    "print(totalMonthlyPrecip)"
   ]
  },
  {
   "cell_type": "code",
   "execution_count": 11,
   "metadata": {},
   "outputs": [
    {
     "name": "stdout",
     "output_type": "stream",
     "text": [
      "[277 251 278 269 267 259 263 272 259 263 255 259]\n"
     ]
    }
   ],
   "source": [
    "print(totalMonthlyCount)"
   ]
  },
  {
   "cell_type": "code",
   "execution_count": 12,
   "metadata": {},
   "outputs": [],
   "source": [
    "avgMonthlyPrecip = totalMonthlyPrecip/totalMonthlyCount"
   ]
  },
  {
   "cell_type": "code",
   "execution_count": 13,
   "metadata": {},
   "outputs": [
    {
     "name": "stdout",
     "output_type": "stream",
     "text": [
      "[27.77978339 30.42629482 29.41007194 17.96654275 21.34456929 20.69498069\n",
      " 24.97718631 19.85661765 24.06563707 44.68441065 34.61568627 32.36679537]\n"
     ]
    }
   ],
   "source": [
    "print(avgMonthlyPrecip)"
   ]
  },
  {
   "cell_type": "code",
   "execution_count": 14,
   "metadata": {},
   "outputs": [],
   "source": [
    "totalCityCount = np.sum(counts, axis=1)"
   ]
  },
  {
   "cell_type": "code",
   "execution_count": 15,
   "metadata": {},
   "outputs": [],
   "source": [
    "avgCityPrecip = totalCityPrecip/totalCityCount"
   ]
  },
  {
   "cell_type": "code",
   "execution_count": 16,
   "metadata": {},
   "outputs": [
    {
     "name": "stdout",
     "output_type": "stream",
     "text": [
      "[47.77859779 14.33333333 39.91232877 41.44505495 23.4099723  23.68144044\n",
      " 17.52197802 36.52222222  6.15426997]\n"
     ]
    }
   ],
   "source": [
    "print(avgCityPrecip)"
   ]
  },
  {
   "cell_type": "code",
   "execution_count": 17,
   "metadata": {},
   "outputs": [],
   "source": [
    "precipRowNum = totals.shape[0]"
   ]
  },
  {
   "cell_type": "code",
   "execution_count": 18,
   "metadata": {},
   "outputs": [],
   "source": [
    "quarterCityPrecip = totals.reshape(4*precipRowNum, 3)"
   ]
  },
  {
   "cell_type": "code",
   "execution_count": 19,
   "metadata": {},
   "outputs": [
    {
     "name": "stdout",
     "output_type": "stream",
     "text": [
      "[[1809 1482 2159]\n",
      " [ 374  606  428]\n",
      " [ 442   68  956]\n",
      " [1429 1349 1846]\n",
      " [ 121   22   46]\n",
      " [  40  683  616]\n",
      " [2061  834  253]\n",
      " [ 276   27  224]\n",
      " [ 896 1232  992]\n",
      " [1106 1236 1015]\n",
      " [1264 1096 1026]\n",
      " [2422 1184 1099]\n",
      " [1491 1473 1452]\n",
      " [1595 1001  725]\n",
      " [ 734  445  845]\n",
      " [2185 1305 1835]\n",
      " [ 930  561  533]\n",
      " [ 204  546  748]\n",
      " [ 662  274  785]\n",
      " [1620 1293  295]\n",
      " [ 183  982  621]\n",
      " [ 471  667  671]\n",
      " [ 525 1599  433]\n",
      " [1176  594  627]\n",
      " [ 363  491  729]\n",
      " [ 681  346  269]\n",
      " [ 399  667  663]\n",
      " [ 452  497  821]\n",
      " [1682 1304 1616]\n",
      " [ 242  516  582]\n",
      " [ 328  138  784]\n",
      " [2034 2402 1520]\n",
      " [ 220   90   28]\n",
      " [ 120   98  306]\n",
      " [ 154  280  488]\n",
      " [ 158  176  116]]\n"
     ]
    }
   ],
   "source": [
    "print(quarterCityPrecip)"
   ]
  },
  {
   "cell_type": "code",
   "execution_count": 20,
   "metadata": {},
   "outputs": [],
   "source": [
    "quarterSumPrecip = np.sum(quarterCityPrecip, axis=1)"
   ]
  },
  {
   "cell_type": "code",
   "execution_count": 21,
   "metadata": {},
   "outputs": [
    {
     "name": "stdout",
     "output_type": "stream",
     "text": [
      "[5450 1408 1466 4624  189 1339 3148  527 3120 3357 3386 4705 4416 3321\n",
      " 2024 5325 2024 1498 1721 3208 1786 1809 2557 2397 1583 1296 1729 1770\n",
      " 4602 1340 1250 5956  338  524  922  450]\n"
     ]
    }
   ],
   "source": [
    "print(quarterSumPrecip)"
   ]
  },
  {
   "cell_type": "code",
   "execution_count": 22,
   "metadata": {},
   "outputs": [],
   "source": [
    "quarterTotalPrecip = quarterSumPrecip.reshape(precipRowNum, 4)"
   ]
  },
  {
   "cell_type": "code",
   "execution_count": 23,
   "metadata": {},
   "outputs": [
    {
     "name": "stdout",
     "output_type": "stream",
     "text": [
      "[[5450 1408 1466 4624]\n",
      " [ 189 1339 3148  527]\n",
      " [3120 3357 3386 4705]\n",
      " [4416 3321 2024 5325]\n",
      " [2024 1498 1721 3208]\n",
      " [1786 1809 2557 2397]\n",
      " [1583 1296 1729 1770]\n",
      " [4602 1340 1250 5956]\n",
      " [ 338  524  922  450]]\n"
     ]
    }
   ],
   "source": [
    "print(quarterTotalPrecip)"
   ]
  },
  {
   "cell_type": "code",
   "execution_count": null,
   "metadata": {},
   "outputs": [],
   "source": []
  }
 ],
 "metadata": {
  "kernelspec": {
   "display_name": "Python 3",
   "language": "python",
   "name": "python3"
  },
  "language_info": {
   "codemirror_mode": {
    "name": "ipython",
    "version": 3
   },
   "file_extension": ".py",
   "mimetype": "text/x-python",
   "name": "python",
   "nbconvert_exporter": "python",
   "pygments_lexer": "ipython3",
   "version": "3.7.3"
  }
 },
 "nbformat": 4,
 "nbformat_minor": 2
}
