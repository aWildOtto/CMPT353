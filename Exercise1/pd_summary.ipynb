{
 "cells": [
  {
   "cell_type": "code",
   "execution_count": 1,
   "metadata": {},
   "outputs": [],
   "source": [
    "import pandas as pd"
   ]
  },
  {
   "cell_type": "code",
   "execution_count": 2,
   "metadata": {},
   "outputs": [],
   "source": [
    "totals = pd.read_csv('totals.csv').set_index(keys=['name'])\n",
    "counts = pd.read_csv('counts.csv').set_index(keys=['name'])"
   ]
  },
  {
   "cell_type": "code",
   "execution_count": 3,
   "metadata": {},
   "outputs": [],
   "source": [
    "totalCityPrecip = totals.sum(axis=1)"
   ]
  },
  {
   "cell_type": "code",
   "execution_count": 7,
   "metadata": {},
   "outputs": [],
   "source": [
    "lowestCity = totalCityPrecip.idxmin(axis=1)"
   ]
  },
  {
   "cell_type": "code",
   "execution_count": 8,
   "metadata": {},
   "outputs": [
    {
     "name": "stdout",
     "output_type": "stream",
     "text": [
      "name\n",
      "BURNABY SIMON FRASER U            12948\n",
      "CALGARY INTL A                     5203\n",
      "GANDER INTL A                     14568\n",
      "HALIFAX INTL A                    15086\n",
      "REVELSTOKE                         8451\n",
      "SHERBROOKE                         8549\n",
      "TORONTO LESTER B. PEARSON INT'     6378\n",
      "VANCOUVER INTL A                  13148\n",
      "YELLOWKNIFE A                      2234\n",
      "dtype: int64\n"
     ]
    }
   ],
   "source": [
    "print(totalCityPrecip)"
   ]
  },
  {
   "cell_type": "code",
   "execution_count": 9,
   "metadata": {},
   "outputs": [
    {
     "name": "stdout",
     "output_type": "stream",
     "text": [
      "YELLOWKNIFE A\n"
     ]
    }
   ],
   "source": [
    "print(lowestCity)"
   ]
  },
  {
   "cell_type": "code",
   "execution_count": 10,
   "metadata": {},
   "outputs": [],
   "source": [
    "totalCityCount = counts.sum(axis=1)"
   ]
  },
  {
   "cell_type": "code",
   "execution_count": 19,
   "metadata": {},
   "outputs": [],
   "source": [
    "totalMonthlyPrecip = totals.sum(axis=0)"
   ]
  },
  {
   "cell_type": "code",
   "execution_count": 20,
   "metadata": {},
   "outputs": [],
   "source": [
    "totalMonthlyCount = counts.sum(axis=0)"
   ]
  },
  {
   "cell_type": "code",
   "execution_count": 21,
   "metadata": {},
   "outputs": [],
   "source": [
    "avgMonthPrecip = totalMonthlyPrecip/totalMonthlyCount"
   ]
  },
  {
   "cell_type": "code",
   "execution_count": 22,
   "metadata": {},
   "outputs": [
    {
     "name": "stdout",
     "output_type": "stream",
     "text": [
      "2016-01    27.779783\n",
      "2016-02    30.426295\n",
      "2016-03    29.410072\n",
      "2016-04    17.966543\n",
      "2016-05    21.344569\n",
      "2016-06    20.694981\n",
      "2016-07    24.977186\n",
      "2016-08    19.856618\n",
      "2016-09    24.065637\n",
      "2016-10    44.684411\n",
      "2016-11    34.615686\n",
      "2016-12    32.366795\n",
      "dtype: float64\n"
     ]
    }
   ],
   "source": [
    "print(avgMonthPrecip)"
   ]
  },
  {
   "cell_type": "code",
   "execution_count": 23,
   "metadata": {},
   "outputs": [],
   "source": [
    "avgCityPrecip = totalCityPrecip/totalCityCount"
   ]
  },
  {
   "cell_type": "code",
   "execution_count": 24,
   "metadata": {},
   "outputs": [
    {
     "name": "stdout",
     "output_type": "stream",
     "text": [
      "name\n",
      "BURNABY SIMON FRASER U            47.778598\n",
      "CALGARY INTL A                    14.333333\n",
      "GANDER INTL A                     39.912329\n",
      "HALIFAX INTL A                    41.445055\n",
      "REVELSTOKE                        23.409972\n",
      "SHERBROOKE                        23.681440\n",
      "TORONTO LESTER B. PEARSON INT'    17.521978\n",
      "VANCOUVER INTL A                  36.522222\n",
      "YELLOWKNIFE A                      6.154270\n",
      "dtype: float64\n"
     ]
    }
   ],
   "source": [
    "print(avgCityPrecip)"
   ]
  },
  {
   "cell_type": "code",
   "execution_count": null,
   "metadata": {},
   "outputs": [],
   "source": []
  }
 ],
 "metadata": {
  "kernelspec": {
   "display_name": "Python 3",
   "language": "python",
   "name": "python3"
  },
  "language_info": {
   "codemirror_mode": {
    "name": "ipython",
    "version": 3
   },
   "file_extension": ".py",
   "mimetype": "text/x-python",
   "name": "python",
   "nbconvert_exporter": "python",
   "pygments_lexer": "ipython3",
   "version": "3.7.3"
  }
 },
 "nbformat": 4,
 "nbformat_minor": 2
}
