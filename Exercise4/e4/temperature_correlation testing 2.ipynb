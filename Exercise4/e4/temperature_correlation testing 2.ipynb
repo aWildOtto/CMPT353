{
 "cells": [
  {
   "cell_type": "code",
   "execution_count": 1,
   "metadata": {},
   "outputs": [],
   "source": [
    "import numpy as np\n",
    "import pandas as pd\n",
    "import sys\n",
    "import matplotlib.pyplot as plt\n",
    "import gzip\n",
    "import math as m"
   ]
  },
  {
   "cell_type": "code",
   "execution_count": 2,
   "metadata": {},
   "outputs": [],
   "source": [
    "stations_file = \"stations.json.gz\"\n",
    "cities_file = \"city_data.csv\"\n",
    "output_file = \"output.svg\""
   ]
  },
  {
   "cell_type": "code",
   "execution_count": 3,
   "metadata": {},
   "outputs": [],
   "source": [
    "station_fh = gzip.open(stations_file, 'rt', encoding='utf-8')\n",
    "stations_df = pd.read_json(station_fh, lines=True)\n",
    "cities_df = pd.read_csv(cities_file)\n",
    "\n",
    "stations_df['avg_tmax'] = stations_df['avg_tmax'] / 10 #divide by ten weather data is °C×10 (because that's what GHCN distributes)\n",
    "#the average daily-high temperature for the year\n",
    "\n",
    "cities_df = cities_df[np.isfinite(cities_df.population)]\n",
    "cities_df = cities_df[np.isfinite(cities_df.area)].reset_index(drop=True) #get ride of unusable data\n",
    "cities_df['area'] = cities_df['area'] / 1000000 #convert from m^2 to km^2\n",
    "\n",
    "cities_df = cities_df[cities_df.area <= 10000] #exclude unreasonable area\n",
    "\n",
    "cities_df.reset_index(drop=True)\n",
    "\n",
    "cities_df['density'] = cities_df['population'] / cities_df['area'] #calculate density\n",
    "\n"
   ]
  },
  {
   "cell_type": "code",
   "execution_count": 5,
   "metadata": {},
   "outputs": [],
   "source": [
    "def distance(city, stations): #takes the current row of the cities df and the stations df as argument\n",
    "    #returns a df of distances from the city to all the stations\n",
    "    p = float(m.pi/180)\n",
    "    city_lat = city['latitude']\n",
    "    city_long = city['longitude']\n",
    "\n",
    "    #row is the city columns are stations\n",
    "    d = 0.5 - np.cos((stations['latitude']-city_lat)*p)/2 + np.cos(city_lat*p) * np.cos(stations['latitude']*p) * (1- np.cos((stations['longitude']-city_long)*p))/2\n",
    "    \n",
    "    return 12742*np.arcsin(np.sqrt(d))"
   ]
  },
  {
   "cell_type": "code",
   "execution_count": 8,
   "metadata": {},
   "outputs": [
    {
     "name": "stderr",
     "output_type": "stream",
     "text": [
      "/home/david/anaconda3/lib/python3.7/site-packages/ipykernel_launcher.py:10: RuntimeWarning: invalid value encountered in arcsin\n",
      "  # Remove the CWD from sys.path while we load stuff.\n"
     ]
    },
    {
     "ename": "NameError",
     "evalue": "name 'stations' is not defined",
     "output_type": "error",
     "traceback": [
      "\u001b[0;31m---------------------------------------------------------------------------\u001b[0m",
      "\u001b[0;31mNameError\u001b[0m                                 Traceback (most recent call last)",
      "\u001b[0;32m<ipython-input-8-b3127fa8adb9>\u001b[0m in \u001b[0;36m<module>\u001b[0;34m\u001b[0m\n\u001b[0;32m----> 1\u001b[0;31m \u001b[0mstations\u001b[0m\u001b[0;34m[\u001b[0m\u001b[0;34m'distance'\u001b[0m\u001b[0;34m]\u001b[0m \u001b[0;34m=\u001b[0m \u001b[0mdistance\u001b[0m\u001b[0;34m(\u001b[0m\u001b[0mcities_df\u001b[0m\u001b[0;34m,\u001b[0m \u001b[0mstations_df\u001b[0m\u001b[0;34m)\u001b[0m\u001b[0;34m\u001b[0m\u001b[0;34m\u001b[0m\u001b[0m\n\u001b[0m",
      "\u001b[0;31mNameError\u001b[0m: name 'stations' is not defined"
     ]
    }
   ],
   "source": [
    "stations['distance'] = distance(cities_df, stations_df)"
   ]
  },
  {
   "cell_type": "code",
   "execution_count": null,
   "metadata": {},
   "outputs": [],
   "source": []
  }
 ],
 "metadata": {
  "kernelspec": {
   "display_name": "Python 3",
   "language": "python",
   "name": "python3"
  },
  "language_info": {
   "codemirror_mode": {
    "name": "ipython",
    "version": 3
   },
   "file_extension": ".py",
   "mimetype": "text/x-python",
   "name": "python",
   "nbconvert_exporter": "python",
   "pygments_lexer": "ipython3",
   "version": "3.7.3"
  }
 },
 "nbformat": 4,
 "nbformat_minor": 2
}
