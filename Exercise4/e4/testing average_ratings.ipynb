{
 "cells": [
  {
   "cell_type": "code",
   "execution_count": 1,
   "metadata": {},
   "outputs": [],
   "source": [
    "import numpy as np\n",
    "import pandas as pd\n",
    "import sys\n",
    "import difflib"
   ]
  },
  {
   "cell_type": "code",
   "execution_count": 2,
   "metadata": {},
   "outputs": [],
   "source": [
    "movie_list = \"movie_list.txt\""
   ]
  },
  {
   "cell_type": "code",
   "execution_count": 3,
   "metadata": {},
   "outputs": [],
   "source": [
    "#movie_ratings = \"movie_ratings.csv\""
   ]
  },
  {
   "cell_type": "code",
   "execution_count": 4,
   "metadata": {},
   "outputs": [],
   "source": [
    "movies = open(movie_list).readlines()"
   ]
  },
  {
   "cell_type": "code",
   "execution_count": 5,
   "metadata": {},
   "outputs": [],
   "source": [
    "df = pd.DataFrame(movies, columns={'title'})"
   ]
  },
  {
   "cell_type": "code",
   "execution_count": 6,
   "metadata": {},
   "outputs": [],
   "source": [
    "movies_series = df['title'].str.replace('\\n','', regex=True)"
   ]
  },
  {
   "cell_type": "code",
   "execution_count": 7,
   "metadata": {},
   "outputs": [],
   "source": [
    "movies_df = pd.DataFrame(movies_series, columns={'title'})"
   ]
  },
  {
   "cell_type": "code",
   "execution_count": null,
   "metadata": {},
   "outputs": [],
   "source": []
  },
  {
   "cell_type": "code",
   "execution_count": 8,
   "metadata": {},
   "outputs": [],
   "source": [
    "def match_title(title):\n",
    "    match = difflib.get_close_matches(title, movies_df['title'], n=1, cutoff=0.6)\n",
    "    return match"
   ]
  },
  {
   "cell_type": "code",
   "execution_count": 9,
   "metadata": {},
   "outputs": [],
   "source": [
    "movie_ratings = pd.read_csv(\"movie_ratings.csv\")"
   ]
  },
  {
   "cell_type": "code",
   "execution_count": 10,
   "metadata": {},
   "outputs": [],
   "source": [
    "ratings_df = pd.DataFrame(movie_ratings, columns=['title', 'rating'])"
   ]
  },
  {
   "cell_type": "code",
   "execution_count": 11,
   "metadata": {},
   "outputs": [],
   "source": [
    "matched_ratings = ratings_df['title'].apply(lambda title:match_title(title))"
   ]
  },
  {
   "cell_type": "code",
   "execution_count": 12,
   "metadata": {},
   "outputs": [],
   "source": [
    "ratings_df['matched'] = matched_ratings\n",
    "ratings_df.to_csv(\"test_output.csv\")"
   ]
  },
  {
   "cell_type": "code",
   "execution_count": 13,
   "metadata": {},
   "outputs": [],
   "source": [
    "ratings_df['matched'] = ratings_df['matched'].astype(str)"
   ]
  },
  {
   "cell_type": "code",
   "execution_count": 14,
   "metadata": {},
   "outputs": [],
   "source": [
    "ratings_df['matched'] = ratings_df['matched'].str.strip('[]\"')"
   ]
  },
  {
   "cell_type": "code",
   "execution_count": 15,
   "metadata": {},
   "outputs": [],
   "source": [
    "ratings_df['matched'] = ratings_df['matched'].str.strip(\"'\")\n",
    "ratings_df = ratings_df[ratings_df.matched != '']"
   ]
  },
  {
   "cell_type": "code",
   "execution_count": 16,
   "metadata": {},
   "outputs": [],
   "source": [
    "ratings_df = ratings_df.drop('title',1)\n",
    "ratings_df = ratings_df.rename(columns={\"matched\":\"title\"})"
   ]
  },
  {
   "cell_type": "code",
   "execution_count": 17,
   "metadata": {},
   "outputs": [],
   "source": [
    "ratings_df = ratings_df.reindex(columns=[\"title\",\"rating\"])"
   ]
  },
  {
   "cell_type": "code",
   "execution_count": 18,
   "metadata": {},
   "outputs": [],
   "source": [
    "#ratings_df.to_csv(\"test_output.csv\")"
   ]
  },
  {
   "cell_type": "code",
   "execution_count": 19,
   "metadata": {},
   "outputs": [],
   "source": [
    "ratings_df = ratings_df.groupby(['title'], 0).mean()"
   ]
  },
  {
   "cell_type": "code",
   "execution_count": 20,
   "metadata": {},
   "outputs": [
    {
     "data": {
      "text/html": [
       "<div>\n",
       "<style scoped>\n",
       "    .dataframe tbody tr th:only-of-type {\n",
       "        vertical-align: middle;\n",
       "    }\n",
       "\n",
       "    .dataframe tbody tr th {\n",
       "        vertical-align: top;\n",
       "    }\n",
       "\n",
       "    .dataframe thead th {\n",
       "        text-align: right;\n",
       "    }\n",
       "</style>\n",
       "<table border=\"1\" class=\"dataframe\">\n",
       "  <thead>\n",
       "    <tr style=\"text-align: right;\">\n",
       "      <th></th>\n",
       "      <th>rating</th>\n",
       "    </tr>\n",
       "    <tr>\n",
       "      <th>title</th>\n",
       "      <th></th>\n",
       "    </tr>\n",
       "  </thead>\n",
       "  <tbody>\n",
       "    <tr>\n",
       "      <th>28 Days Later...</th>\n",
       "      <td>7.181818</td>\n",
       "    </tr>\n",
       "    <tr>\n",
       "      <th>A Time to Kill</th>\n",
       "      <td>7.916667</td>\n",
       "    </tr>\n",
       "    <tr>\n",
       "      <th>Anomalisa</th>\n",
       "      <td>7.500000</td>\n",
       "    </tr>\n",
       "    <tr>\n",
       "      <th>Central Intelligence</th>\n",
       "      <td>6.878049</td>\n",
       "    </tr>\n",
       "    <tr>\n",
       "      <th>Dead Poets Society</th>\n",
       "      <td>8.333333</td>\n",
       "    </tr>\n",
       "    <tr>\n",
       "      <th>Detachment</th>\n",
       "      <td>8.136364</td>\n",
       "    </tr>\n",
       "    <tr>\n",
       "      <th>Dial M for Murder</th>\n",
       "      <td>8.125000</td>\n",
       "    </tr>\n",
       "    <tr>\n",
       "      <th>Dog Day Afternoon</th>\n",
       "      <td>8.600000</td>\n",
       "    </tr>\n",
       "    <tr>\n",
       "      <th>El cuerpo</th>\n",
       "      <td>8.444444</td>\n",
       "    </tr>\n",
       "    <tr>\n",
       "      <th>Everest</th>\n",
       "      <td>7.068182</td>\n",
       "    </tr>\n",
       "    <tr>\n",
       "      <th>Everybody Wants Some!!</th>\n",
       "      <td>6.875000</td>\n",
       "    </tr>\n",
       "    <tr>\n",
       "      <th>Garden State</th>\n",
       "      <td>8.666667</td>\n",
       "    </tr>\n",
       "    <tr>\n",
       "      <th>God Bless America</th>\n",
       "      <td>7.500000</td>\n",
       "    </tr>\n",
       "    <tr>\n",
       "      <th>Heaven Is for Real</th>\n",
       "      <td>6.125000</td>\n",
       "    </tr>\n",
       "    <tr>\n",
       "      <th>Hitman: Agent 47</th>\n",
       "      <td>5.500000</td>\n",
       "    </tr>\n",
       "    <tr>\n",
       "      <th>House at the End of the Street</th>\n",
       "      <td>5.952381</td>\n",
       "    </tr>\n",
       "    <tr>\n",
       "      <th>I Spit on Your Grave 2</th>\n",
       "      <td>6.230769</td>\n",
       "    </tr>\n",
       "    <tr>\n",
       "      <th>Intouchables</th>\n",
       "      <td>8.931507</td>\n",
       "    </tr>\n",
       "    <tr>\n",
       "      <th>Jûsan-nin no shikaku</th>\n",
       "      <td>8.000000</td>\n",
       "    </tr>\n",
       "    <tr>\n",
       "      <th>Love Actually</th>\n",
       "      <td>8.000000</td>\n",
       "    </tr>\n",
       "    <tr>\n",
       "      <th>Macbeth</th>\n",
       "      <td>7.166667</td>\n",
       "    </tr>\n",
       "    <tr>\n",
       "      <th>Madagascar 3: Europe's Most Wanted</th>\n",
       "      <td>6.666667</td>\n",
       "    </tr>\n",
       "    <tr>\n",
       "      <th>Maleficent</th>\n",
       "      <td>7.565217</td>\n",
       "    </tr>\n",
       "    <tr>\n",
       "      <th>Man on Fire</th>\n",
       "      <td>8.444444</td>\n",
       "    </tr>\n",
       "    <tr>\n",
       "      <th>Maps to the Stars</th>\n",
       "      <td>5.857143</td>\n",
       "    </tr>\n",
       "    <tr>\n",
       "      <th>Me Before You</th>\n",
       "      <td>7.588235</td>\n",
       "    </tr>\n",
       "    <tr>\n",
       "      <th>Mrs. Doubtfire</th>\n",
       "      <td>8.500000</td>\n",
       "    </tr>\n",
       "    <tr>\n",
       "      <th>Much Ado About Nothing</th>\n",
       "      <td>7.545455</td>\n",
       "    </tr>\n",
       "    <tr>\n",
       "      <th>Neighbors 2: Sorority Rising</th>\n",
       "      <td>5.352941</td>\n",
       "    </tr>\n",
       "    <tr>\n",
       "      <th>Non-Stop</th>\n",
       "      <td>7.233010</td>\n",
       "    </tr>\n",
       "    <tr>\n",
       "      <th>P.S. I Love You</th>\n",
       "      <td>6.500000</td>\n",
       "    </tr>\n",
       "    <tr>\n",
       "      <th>Paul Blart: Mall Cop 2</th>\n",
       "      <td>5.600000</td>\n",
       "    </tr>\n",
       "    <tr>\n",
       "      <th>Pitch Perfect 2</th>\n",
       "      <td>7.266667</td>\n",
       "    </tr>\n",
       "    <tr>\n",
       "      <th>Poltergeist</th>\n",
       "      <td>8.200000</td>\n",
       "    </tr>\n",
       "    <tr>\n",
       "      <th>Real Steel</th>\n",
       "      <td>8.200000</td>\n",
       "    </tr>\n",
       "    <tr>\n",
       "      <th>Shaun the Sheep Movie</th>\n",
       "      <td>7.214286</td>\n",
       "    </tr>\n",
       "    <tr>\n",
       "      <th>Sightseers</th>\n",
       "      <td>6.666667</td>\n",
       "    </tr>\n",
       "    <tr>\n",
       "      <th>Sunshine</th>\n",
       "      <td>7.500000</td>\n",
       "    </tr>\n",
       "    <tr>\n",
       "      <th>Texas Chainsaw 3D</th>\n",
       "      <td>5.190476</td>\n",
       "    </tr>\n",
       "    <tr>\n",
       "      <th>The End of the Tour</th>\n",
       "      <td>7.125000</td>\n",
       "    </tr>\n",
       "    <tr>\n",
       "      <th>The Life of David Gale</th>\n",
       "      <td>8.400000</td>\n",
       "    </tr>\n",
       "    <tr>\n",
       "      <th>To the Wonder</th>\n",
       "      <td>5.888889</td>\n",
       "    </tr>\n",
       "    <tr>\n",
       "      <th>Tower Heist</th>\n",
       "      <td>6.200000</td>\n",
       "    </tr>\n",
       "    <tr>\n",
       "      <th>Tyler Perry's Temptation</th>\n",
       "      <td>5.000000</td>\n",
       "    </tr>\n",
       "    <tr>\n",
       "      <th>Vaiana</th>\n",
       "      <td>8.000000</td>\n",
       "    </tr>\n",
       "    <tr>\n",
       "      <th>War of the Worlds</th>\n",
       "      <td>8.166667</td>\n",
       "    </tr>\n",
       "    <tr>\n",
       "      <th>Welcome to Me</th>\n",
       "      <td>6.000000</td>\n",
       "    </tr>\n",
       "    <tr>\n",
       "      <th>Why Him?</th>\n",
       "      <td>6.357143</td>\n",
       "    </tr>\n",
       "    <tr>\n",
       "      <th>Wreck-It Ralph</th>\n",
       "      <td>7.828571</td>\n",
       "    </tr>\n",
       "  </tbody>\n",
       "</table>\n",
       "</div>"
      ],
      "text/plain": [
       "                                      rating\n",
       "title                                       \n",
       "28 Days Later...                    7.181818\n",
       "A Time to Kill                      7.916667\n",
       "Anomalisa                           7.500000\n",
       "Central Intelligence                6.878049\n",
       "Dead Poets Society                  8.333333\n",
       "Detachment                          8.136364\n",
       "Dial M for Murder                   8.125000\n",
       "Dog Day Afternoon                   8.600000\n",
       "El cuerpo                           8.444444\n",
       "Everest                             7.068182\n",
       "Everybody Wants Some!!              6.875000\n",
       "Garden State                        8.666667\n",
       "God Bless America                   7.500000\n",
       "Heaven Is for Real                  6.125000\n",
       "Hitman: Agent 47                    5.500000\n",
       "House at the End of the Street      5.952381\n",
       "I Spit on Your Grave 2              6.230769\n",
       "Intouchables                        8.931507\n",
       "Jûsan-nin no shikaku                8.000000\n",
       "Love Actually                       8.000000\n",
       "Macbeth                             7.166667\n",
       "Madagascar 3: Europe's Most Wanted  6.666667\n",
       "Maleficent                          7.565217\n",
       "Man on Fire                         8.444444\n",
       "Maps to the Stars                   5.857143\n",
       "Me Before You                       7.588235\n",
       "Mrs. Doubtfire                      8.500000\n",
       "Much Ado About Nothing              7.545455\n",
       "Neighbors 2: Sorority Rising        5.352941\n",
       "Non-Stop                            7.233010\n",
       "P.S. I Love You                     6.500000\n",
       "Paul Blart: Mall Cop 2              5.600000\n",
       "Pitch Perfect 2                     7.266667\n",
       "Poltergeist                         8.200000\n",
       "Real Steel                          8.200000\n",
       "Shaun the Sheep Movie               7.214286\n",
       "Sightseers                          6.666667\n",
       "Sunshine                            7.500000\n",
       "Texas Chainsaw 3D                   5.190476\n",
       "The End of the Tour                 7.125000\n",
       "The Life of David Gale              8.400000\n",
       "To the Wonder                       5.888889\n",
       "Tower Heist                         6.200000\n",
       "Tyler Perry's Temptation            5.000000\n",
       "Vaiana                              8.000000\n",
       "War of the Worlds                   8.166667\n",
       "Welcome to Me                       6.000000\n",
       "Why Him?                            6.357143\n",
       "Wreck-It Ralph                      7.828571"
      ]
     },
     "execution_count": 20,
     "metadata": {},
     "output_type": "execute_result"
    }
   ],
   "source": [
    "ratings_df"
   ]
  },
  {
   "cell_type": "code",
   "execution_count": null,
   "metadata": {},
   "outputs": [],
   "source": []
  },
  {
   "cell_type": "code",
   "execution_count": null,
   "metadata": {},
   "outputs": [],
   "source": []
  },
  {
   "cell_type": "code",
   "execution_count": null,
   "metadata": {},
   "outputs": [],
   "source": []
  },
  {
   "cell_type": "code",
   "execution_count": null,
   "metadata": {},
   "outputs": [],
   "source": []
  },
  {
   "cell_type": "code",
   "execution_count": null,
   "metadata": {},
   "outputs": [],
   "source": []
  }
 ],
 "metadata": {
  "kernelspec": {
   "display_name": "Python 3",
   "language": "python",
   "name": "python3"
  },
  "language_info": {
   "codemirror_mode": {
    "name": "ipython",
    "version": 3
   },
   "file_extension": ".py",
   "mimetype": "text/x-python",
   "name": "python",
   "nbconvert_exporter": "python",
   "pygments_lexer": "ipython3",
   "version": "3.7.3"
  }
 },
 "nbformat": 4,
 "nbformat_minor": 2
}
