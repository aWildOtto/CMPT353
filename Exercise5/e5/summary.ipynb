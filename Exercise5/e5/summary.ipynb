{
 "cells": [
  {
   "cell_type": "code",
   "execution_count": 1,
   "metadata": {},
   "outputs": [],
   "source": [
    "import numpy as np\n",
    "import pandas as pd\n",
    "import matplotlib.pyplot as plt"
   ]
  },
  {
   "cell_type": "code",
   "execution_count": 2,
   "metadata": {},
   "outputs": [],
   "source": [
    "data1_df = pd.read_csv('data-1.csv')\n",
    "data2_df = pd.read_csv('data-2.csv')\n",
    "data3_df = pd.read_csv('data-3.csv')\n",
    "data4_df = pd.read_csv('data-4.csv')\n",
    "data5_df = pd.read_csv('data-5.csv')\n",
    "data6_df = pd.read_csv('data-6.csv')"
   ]
  },
  {
   "cell_type": "code",
   "execution_count": 3,
   "metadata": {},
   "outputs": [],
   "source": [
    "def get_stats(data,row):\n",
    "    newData = pd.DataFrame(\n",
    "        {\n",
    "            'mean_x': [data['x'].mean()], 'mean_y': [data['y'].mean()],\n",
    "            'std_x': [data['x'].std()], 'std_y': [data['y'].std()],\n",
    "            'range_x': [str([data['x'].min(), data['x'].max()])],\n",
    "            'range_y': [str([data['y'].min(), data['y'].max()])],\n",
    "            'cor_coef': [data.corr()['x']['y']]\n",
    "        }, index = [row]\n",
    "    )\n",
    "    return newData"
   ]
  },
  {
   "cell_type": "code",
   "execution_count": 4,
   "metadata": {},
   "outputs": [],
   "source": [
    "def stats(data):\n",
    "    return {\n",
    "        'mean_x': data['x'].mean(), 'mean_y': data['y'].mean(),\n",
    "        'std_x': data['x'].std(), 'std_y': data['y'].std(),\n",
    "        'range_x': str([data['x'].min(), data['x'].max()]),\n",
    "        'range_y':str([data['y'].min(), data['y'].max()]),\n",
    "        'cor_coef': data.corr()['x']['y']\n",
    "    }"
   ]
  },
  {
   "cell_type": "code",
   "execution_count": 5,
   "metadata": {},
   "outputs": [],
   "source": [
    "summary_df = get_stats(data1_df, \"data1\")"
   ]
  },
  {
   "cell_type": "code",
   "execution_count": 6,
   "metadata": {},
   "outputs": [],
   "source": [
    "summary_df = summary_df.append(get_stats(data2_df, \"data2\"))"
   ]
  },
  {
   "cell_type": "code",
   "execution_count": 7,
   "metadata": {},
   "outputs": [],
   "source": [
    "summary_df = summary_df.append(get_stats(data3_df, \"data3\"))"
   ]
  },
  {
   "cell_type": "code",
   "execution_count": 8,
   "metadata": {},
   "outputs": [],
   "source": [
    "summary_df = summary_df.append(get_stats(data4_df, \"data4\"))"
   ]
  },
  {
   "cell_type": "code",
   "execution_count": 9,
   "metadata": {},
   "outputs": [],
   "source": [
    "summary_df = summary_df.append(get_stats(data5_df, \"data5\"))"
   ]
  },
  {
   "cell_type": "code",
   "execution_count": 10,
   "metadata": {},
   "outputs": [],
   "source": [
    "summary_df = summary_df.append(get_stats(data6_df, \"data6\"))"
   ]
  },
  {
   "cell_type": "code",
   "execution_count": 11,
   "metadata": {},
   "outputs": [
    {
     "data": {
      "text/html": [
       "<div>\n",
       "<style scoped>\n",
       "    .dataframe tbody tr th:only-of-type {\n",
       "        vertical-align: middle;\n",
       "    }\n",
       "\n",
       "    .dataframe tbody tr th {\n",
       "        vertical-align: top;\n",
       "    }\n",
       "\n",
       "    .dataframe thead th {\n",
       "        text-align: right;\n",
       "    }\n",
       "</style>\n",
       "<table border=\"1\" class=\"dataframe\">\n",
       "  <thead>\n",
       "    <tr style=\"text-align: right;\">\n",
       "      <th></th>\n",
       "      <th>mean_x</th>\n",
       "      <th>mean_y</th>\n",
       "      <th>std_x</th>\n",
       "      <th>std_y</th>\n",
       "      <th>range_x</th>\n",
       "      <th>range_y</th>\n",
       "      <th>cor_coef</th>\n",
       "    </tr>\n",
       "  </thead>\n",
       "  <tbody>\n",
       "    <tr>\n",
       "      <th>data1</th>\n",
       "      <td>8.717696</td>\n",
       "      <td>12.522874</td>\n",
       "      <td>12.155517</td>\n",
       "      <td>6.639964</td>\n",
       "      <td>[-22.635877790008944, 35.23705548785129]</td>\n",
       "      <td>[-2.5650878326932127, 27.38415261152477]</td>\n",
       "      <td>0.950326</td>\n",
       "    </tr>\n",
       "    <tr>\n",
       "      <th>data2</th>\n",
       "      <td>-0.710787</td>\n",
       "      <td>-0.748987</td>\n",
       "      <td>11.481584</td>\n",
       "      <td>6.257918</td>\n",
       "      <td>[-33.2711130771198, 27.6470003722073]</td>\n",
       "      <td>[-18.621803760419066, 14.147314992317481]</td>\n",
       "      <td>0.955153</td>\n",
       "    </tr>\n",
       "    <tr>\n",
       "      <th>data3</th>\n",
       "      <td>0.968907</td>\n",
       "      <td>8.508535</td>\n",
       "      <td>2.235558</td>\n",
       "      <td>1.149301</td>\n",
       "      <td>[-2.4490643296742807, 4.51888491755363]</td>\n",
       "      <td>[6.641734490391762, 10.551871022804317]</td>\n",
       "      <td>0.981937</td>\n",
       "    </tr>\n",
       "    <tr>\n",
       "      <th>data4</th>\n",
       "      <td>49.905086</td>\n",
       "      <td>18.553837</td>\n",
       "      <td>28.508611</td>\n",
       "      <td>16.545896</td>\n",
       "      <td>[0.0, 87.3767]</td>\n",
       "      <td>[0.0, 44.56504]</td>\n",
       "      <td>-0.081193</td>\n",
       "    </tr>\n",
       "    <tr>\n",
       "      <th>data5</th>\n",
       "      <td>49.909994</td>\n",
       "      <td>18.555525</td>\n",
       "      <td>28.500001</td>\n",
       "      <td>16.540796</td>\n",
       "      <td>[4.337892453674525, 91.0528633396976]</td>\n",
       "      <td>[0.05549750758115175, 49.93419703633311]</td>\n",
       "      <td>-0.088236</td>\n",
       "    </tr>\n",
       "    <tr>\n",
       "      <th>data6</th>\n",
       "      <td>7.216155</td>\n",
       "      <td>7.602215</td>\n",
       "      <td>11.921599</td>\n",
       "      <td>11.764382</td>\n",
       "      <td>[-24.33382075234097, 35.402138910929]</td>\n",
       "      <td>[-22.9563569970746, 36.07987403078143]</td>\n",
       "      <td>0.935069</td>\n",
       "    </tr>\n",
       "  </tbody>\n",
       "</table>\n",
       "</div>"
      ],
      "text/plain": [
       "          mean_x     mean_y      std_x      std_y  \\\n",
       "data1   8.717696  12.522874  12.155517   6.639964   \n",
       "data2  -0.710787  -0.748987  11.481584   6.257918   \n",
       "data3   0.968907   8.508535   2.235558   1.149301   \n",
       "data4  49.905086  18.553837  28.508611  16.545896   \n",
       "data5  49.909994  18.555525  28.500001  16.540796   \n",
       "data6   7.216155   7.602215  11.921599  11.764382   \n",
       "\n",
       "                                        range_x  \\\n",
       "data1  [-22.635877790008944, 35.23705548785129]   \n",
       "data2     [-33.2711130771198, 27.6470003722073]   \n",
       "data3   [-2.4490643296742807, 4.51888491755363]   \n",
       "data4                            [0.0, 87.3767]   \n",
       "data5     [4.337892453674525, 91.0528633396976]   \n",
       "data6     [-24.33382075234097, 35.402138910929]   \n",
       "\n",
       "                                         range_y  cor_coef  \n",
       "data1   [-2.5650878326932127, 27.38415261152477]  0.950326  \n",
       "data2  [-18.621803760419066, 14.147314992317481]  0.955153  \n",
       "data3    [6.641734490391762, 10.551871022804317]  0.981937  \n",
       "data4                            [0.0, 44.56504] -0.081193  \n",
       "data5   [0.05549750758115175, 49.93419703633311] -0.088236  \n",
       "data6     [-22.9563569970746, 36.07987403078143]  0.935069  "
      ]
     },
     "execution_count": 11,
     "metadata": {},
     "output_type": "execute_result"
    }
   ],
   "source": [
    "summary_df"
   ]
  },
  {
   "cell_type": "code",
   "execution_count": 12,
   "metadata": {},
   "outputs": [
    {
     "data": {
      "text/plain": [
       "{'mean_x': 8.717696186413818,\n",
       " 'mean_y': 12.522874034702589,\n",
       " 'std_x': 12.155517231222024,\n",
       " 'std_y': 6.63996400756785,\n",
       " 'range_x': '[-22.635877790008944, 35.23705548785129]',\n",
       " 'range_y': '[-2.5650878326932127, 27.38415261152477]',\n",
       " 'cor_coef': 0.9503256954375483}"
      ]
     },
     "execution_count": 12,
     "metadata": {},
     "output_type": "execute_result"
    }
   ],
   "source": [
    "stats(data1_df)"
   ]
  },
  {
   "cell_type": "code",
   "execution_count": 13,
   "metadata": {},
   "outputs": [
    {
     "data": {
      "text/plain": [
       "{'mean_x': -0.7107871267159582,\n",
       " 'mean_y': -0.7489869764497992,\n",
       " 'std_x': 11.481583587790732,\n",
       " 'std_y': 6.257917998755848,\n",
       " 'range_x': '[-33.2711130771198, 27.6470003722073]',\n",
       " 'range_y': '[-18.621803760419066, 14.147314992317481]',\n",
       " 'cor_coef': 0.9551531665750375}"
      ]
     },
     "execution_count": 13,
     "metadata": {},
     "output_type": "execute_result"
    }
   ],
   "source": [
    "stats(data2_df)"
   ]
  },
  {
   "cell_type": "code",
   "execution_count": 14,
   "metadata": {},
   "outputs": [
    {
     "data": {
      "text/plain": [
       "{'mean_x': 0.9689074904200942,\n",
       " 'mean_y': 8.50853523664133,\n",
       " 'std_x': 2.23555786105797,\n",
       " 'std_y': 1.1493008110024527,\n",
       " 'range_x': '[-2.4490643296742807, 4.51888491755363]',\n",
       " 'range_y': '[6.641734490391762, 10.551871022804317]',\n",
       " 'cor_coef': 0.9819372646760658}"
      ]
     },
     "execution_count": 14,
     "metadata": {},
     "output_type": "execute_result"
    }
   ],
   "source": [
    "stats(data3_df)"
   ]
  },
  {
   "cell_type": "code",
   "execution_count": 15,
   "metadata": {},
   "outputs": [
    {
     "data": {
      "text/plain": [
       "{'mean_x': 49.90508614830509,\n",
       " 'mean_y': 18.55383652542372,\n",
       " 'std_x': 28.50861051988193,\n",
       " 'std_y': 16.545896442941686,\n",
       " 'range_x': '[0.0, 87.3767]',\n",
       " 'range_y': '[0.0, 44.56504]',\n",
       " 'cor_coef': -0.08119306735490814}"
      ]
     },
     "execution_count": 15,
     "metadata": {},
     "output_type": "execute_result"
    }
   ],
   "source": [
    "stats(data4_df)"
   ]
  },
  {
   "cell_type": "code",
   "execution_count": 16,
   "metadata": {},
   "outputs": [
    {
     "data": {
      "text/plain": [
       "{'mean_x': 49.90999357843096,\n",
       " 'mean_y': 18.55552493772909,\n",
       " 'std_x': 28.500000943801368,\n",
       " 'std_y': 16.540796301840782,\n",
       " 'range_x': '[4.337892453674525, 91.0528633396976]',\n",
       " 'range_y': '[0.05549750758115175, 49.93419703633311]',\n",
       " 'cor_coef': -0.08823598983058889}"
      ]
     },
     "execution_count": 16,
     "metadata": {},
     "output_type": "execute_result"
    }
   ],
   "source": [
    "stats(data5_df)"
   ]
  },
  {
   "cell_type": "code",
   "execution_count": 17,
   "metadata": {},
   "outputs": [
    {
     "data": {
      "text/plain": [
       "{'mean_x': 7.2161551796099195,\n",
       " 'mean_y': 7.6022150282372944,\n",
       " 'std_x': 11.921599067458313,\n",
       " 'std_y': 11.764382455006647,\n",
       " 'range_x': '[-24.33382075234097, 35.402138910929]',\n",
       " 'range_y': '[-22.9563569970746, 36.07987403078143]',\n",
       " 'cor_coef': 0.9350685662094906}"
      ]
     },
     "execution_count": 17,
     "metadata": {},
     "output_type": "execute_result"
    }
   ],
   "source": [
    "stats(data6_df)"
   ]
  },
  {
   "cell_type": "code",
   "execution_count": 18,
   "metadata": {},
   "outputs": [],
   "source": [
    "#plt.scatter(data6_df['x'], data6_df['y'])"
   ]
  },
  {
   "cell_type": "code",
   "execution_count": null,
   "metadata": {},
   "outputs": [],
   "source": []
  }
 ],
 "metadata": {
  "kernelspec": {
   "display_name": "Python 3",
   "language": "python",
   "name": "python3"
  },
  "language_info": {
   "codemirror_mode": {
    "name": "ipython",
    "version": 3
   },
   "file_extension": ".py",
   "mimetype": "text/x-python",
   "name": "python",
   "nbconvert_exporter": "python",
   "pygments_lexer": "ipython3",
   "version": "3.7.3"
  }
 },
 "nbformat": 4,
 "nbformat_minor": 2
}
